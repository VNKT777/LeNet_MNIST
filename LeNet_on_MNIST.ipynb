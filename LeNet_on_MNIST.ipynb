{
  "nbformat": 4,
  "nbformat_minor": 0,
  "metadata": {
    "colab": {
      "name": "LeNet_on_MNIST.ipynb",
      "provenance": [],
      "authorship_tag": "ABX9TyPXMfFnLiK1DR9QDU05HWie",
      "include_colab_link": true
    },
    "kernelspec": {
      "name": "python3",
      "display_name": "Python 3"
    },
    "accelerator": "GPU"
  },
  "cells": [
    {
      "cell_type": "markdown",
      "metadata": {
        "id": "view-in-github",
        "colab_type": "text"
      },
      "source": [
        "<a href=\"https://colab.research.google.com/github/VNKT777/LeNet_MNIST/blob/main/LeNet_on_MNIST.ipynb\" target=\"_parent\"><img src=\"https://colab.research.google.com/assets/colab-badge.svg\" alt=\"Open In Colab\"/></a>"
      ]
    },
    {
      "cell_type": "code",
      "metadata": {
        "colab": {
          "base_uri": "https://localhost:8080/"
        },
        "id": "CyrbsQZBeaSN",
        "outputId": "dad23abe-a6b8-4b66-b1e2-d6eb73d0cbed"
      },
      "source": [
        "from keras.preprocessing.image import ImageDataGenerator\r\n",
        "from keras.models import Sequential\r\n",
        "from keras.layers import Dense, Dropout, Activation, Flatten\r\n",
        "from keras.layers import Conv2D, MaxPooling2D, ZeroPadding2D\r\n",
        "from keras.layers.normalization import BatchNormalization\r\n",
        "from keras.regularizers import l2\r\n",
        "from keras.datasets import mnist\r\n",
        "from keras.utils import np_utils\r\n",
        "import keras\r\n",
        "\r\n",
        "# loads the MNIST dataset\r\n",
        "(x_train, y_train), (x_test, y_test)  = mnist.load_data()\r\n",
        "\r\n",
        "# Lets store the number of rows and columns\r\n",
        "img_rows = x_train[0].shape[0]\r\n",
        "img_cols = x_train[1].shape[0]\r\n",
        "\r\n",
        "# Getting our date in the right 'shape' needed for Keras\r\n",
        "# We need to add a 4th dimenion to our date thereby changing our\r\n",
        "# Our original image shape of (60000,28,28) to (60000,28,28,1)\r\n",
        "x_train = x_train.reshape(x_train.shape[0], img_rows, img_cols, 1)\r\n",
        "x_test = x_test.reshape(x_test.shape[0], img_rows, img_cols, 1)\r\n",
        "\r\n",
        "# store the shape of a single image \r\n",
        "input_shape = (img_rows, img_cols, 1)\r\n",
        "\r\n",
        "# change our image type to float32 data type\r\n",
        "x_train = x_train.astype('float32')\r\n",
        "x_test = x_test.astype('float32')\r\n",
        "\r\n",
        "# Normalize our data by changing the range from (0 to 255) to (0 to 1)\r\n",
        "x_train /= 255\r\n",
        "x_test /= 255\r\n",
        "\r\n",
        "# Now we one hot encode outputs\r\n",
        "y_train = np_utils.to_categorical(y_train)\r\n",
        "y_test = np_utils.to_categorical(y_test)\r\n",
        "\r\n",
        "num_classes = y_test.shape[1]\r\n",
        "num_pixels = x_train.shape[1] * x_train.shape[2]"
      ],
      "execution_count": 1,
      "outputs": [
        {
          "output_type": "stream",
          "text": [
            "Downloading data from https://storage.googleapis.com/tensorflow/tf-keras-datasets/mnist.npz\n",
            "11493376/11490434 [==============================] - 0s 0us/step\n"
          ],
          "name": "stdout"
        }
      ]
    },
    {
      "cell_type": "code",
      "metadata": {
        "colab": {
          "base_uri": "https://localhost:8080/"
        },
        "id": "gTgM8y2BfeS_",
        "outputId": "138b2840-4849-4d5f-831e-54d38865b9b5"
      },
      "source": [
        "# create model\r\n",
        "model = Sequential()\r\n",
        "\r\n",
        "# 2 sets of CRP (Convolution, RELU, Pooling)\r\n",
        "model.add(Conv2D(20, (5, 5),\r\n",
        "                 padding = \"same\", \r\n",
        "                 input_shape = input_shape))\r\n",
        "model.add(Activation(\"relu\"))\r\n",
        "model.add(MaxPooling2D(pool_size = (2, 2), strides = (2, 2)))\r\n",
        "\r\n",
        "model.add(Conv2D(50, (5, 5),\r\n",
        "                 padding = \"same\"))\r\n",
        "model.add(Activation(\"relu\"))\r\n",
        "model.add(MaxPooling2D(pool_size = (2, 2), strides = (2, 2)))\r\n",
        "\r\n",
        "# Fully connected layers (w/ RELU)\r\n",
        "model.add(Flatten())\r\n",
        "model.add(Dense(500))\r\n",
        "model.add(Activation(\"relu\"))\r\n",
        "\r\n",
        "# Softmax (for classification)\r\n",
        "model.add(Dense(num_classes))\r\n",
        "model.add(Activation(\"softmax\"))\r\n",
        "           \r\n",
        "model.compile(loss = 'categorical_crossentropy',\r\n",
        "              optimizer = keras.optimizers.Adadelta(),\r\n",
        "              metrics = ['accuracy'])\r\n",
        "    \r\n",
        "print(model.summary())"
      ],
      "execution_count": 2,
      "outputs": [
        {
          "output_type": "stream",
          "text": [
            "Model: \"sequential\"\n",
            "_________________________________________________________________\n",
            "Layer (type)                 Output Shape              Param #   \n",
            "=================================================================\n",
            "conv2d (Conv2D)              (None, 28, 28, 20)        520       \n",
            "_________________________________________________________________\n",
            "activation (Activation)      (None, 28, 28, 20)        0         \n",
            "_________________________________________________________________\n",
            "max_pooling2d (MaxPooling2D) (None, 14, 14, 20)        0         \n",
            "_________________________________________________________________\n",
            "conv2d_1 (Conv2D)            (None, 14, 14, 50)        25050     \n",
            "_________________________________________________________________\n",
            "activation_1 (Activation)    (None, 14, 14, 50)        0         \n",
            "_________________________________________________________________\n",
            "max_pooling2d_1 (MaxPooling2 (None, 7, 7, 50)          0         \n",
            "_________________________________________________________________\n",
            "flatten (Flatten)            (None, 2450)              0         \n",
            "_________________________________________________________________\n",
            "dense (Dense)                (None, 500)               1225500   \n",
            "_________________________________________________________________\n",
            "activation_2 (Activation)    (None, 500)               0         \n",
            "_________________________________________________________________\n",
            "dense_1 (Dense)              (None, 10)                5010      \n",
            "_________________________________________________________________\n",
            "activation_3 (Activation)    (None, 10)                0         \n",
            "=================================================================\n",
            "Total params: 1,256,080\n",
            "Trainable params: 1,256,080\n",
            "Non-trainable params: 0\n",
            "_________________________________________________________________\n",
            "None\n"
          ],
          "name": "stdout"
        }
      ]
    },
    {
      "cell_type": "code",
      "metadata": {
        "colab": {
          "base_uri": "https://localhost:8080/"
        },
        "id": "TP9DLZsIflRP",
        "outputId": "711e230a-54bd-42e4-efa2-57a2ff800490"
      },
      "source": [
        "# Training Parameters\r\n",
        "batch_size = 128\r\n",
        "epochs = 10\r\n",
        "\r\n",
        "history = model.fit(x_train, y_train,\r\n",
        "          batch_size=batch_size,\r\n",
        "          epochs=epochs,\r\n",
        "          validation_data=(x_test, y_test),\r\n",
        "          shuffle=True)\r\n",
        "\r\n",
        "# model.save(\"/home/deeplearningcv/DeepLearningCV/Trained Models/mnist_LeNet.h5\")\r\n",
        "\r\n",
        "# Evaluate the performance of our trained model\r\n",
        "scores = model.evaluate(x_test, y_test, verbose=1)\r\n",
        "print('Test loss:', scores[0])\r\n",
        "print('Test accuracy:', scores[1])"
      ],
      "execution_count": 3,
      "outputs": [
        {
          "output_type": "stream",
          "text": [
            "Epoch 1/10\n",
            "469/469 [==============================] - 10s 6ms/step - loss: 2.3040 - accuracy: 0.0837 - val_loss: 2.2706 - val_accuracy: 0.1774\n",
            "Epoch 2/10\n",
            "469/469 [==============================] - 2s 5ms/step - loss: 2.2594 - accuracy: 0.2069 - val_loss: 2.2230 - val_accuracy: 0.3101\n",
            "Epoch 3/10\n",
            "469/469 [==============================] - 2s 5ms/step - loss: 2.2108 - accuracy: 0.3525 - val_loss: 2.1656 - val_accuracy: 0.4755\n",
            "Epoch 4/10\n",
            "469/469 [==============================] - 2s 5ms/step - loss: 2.1503 - accuracy: 0.5043 - val_loss: 2.0895 - val_accuracy: 0.6009\n",
            "Epoch 5/10\n",
            "469/469 [==============================] - 2s 5ms/step - loss: 2.0708 - accuracy: 0.6105 - val_loss: 1.9829 - val_accuracy: 0.6701\n",
            "Epoch 6/10\n",
            "469/469 [==============================] - 2s 5ms/step - loss: 1.9548 - accuracy: 0.6724 - val_loss: 1.8332 - val_accuracy: 0.7112\n",
            "Epoch 7/10\n",
            "469/469 [==============================] - 2s 5ms/step - loss: 1.7977 - accuracy: 0.7074 - val_loss: 1.6359 - val_accuracy: 0.7430\n",
            "Epoch 8/10\n",
            "469/469 [==============================] - 2s 5ms/step - loss: 1.5954 - accuracy: 0.7392 - val_loss: 1.4084 - val_accuracy: 0.7624\n",
            "Epoch 9/10\n",
            "469/469 [==============================] - 2s 5ms/step - loss: 1.3688 - accuracy: 0.7617 - val_loss: 1.1838 - val_accuracy: 0.7860\n",
            "Epoch 10/10\n",
            "469/469 [==============================] - 2s 5ms/step - loss: 1.1547 - accuracy: 0.7790 - val_loss: 0.9964 - val_accuracy: 0.8047\n",
            "313/313 [==============================] - 1s 2ms/step - loss: 0.9964 - accuracy: 0.8047\n",
            "Test loss: 0.9964316487312317\n",
            "Test accuracy: 0.8047000169754028\n"
          ],
          "name": "stdout"
        }
      ]
    }
  ]
}